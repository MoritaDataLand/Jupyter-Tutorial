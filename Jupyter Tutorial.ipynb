{
 "cells": [
  {
   "cell_type": "code",
   "execution_count": null,
   "id": "b0b7cc3e",
   "metadata": {
    "scrolled": true
   },
   "outputs": [],
   "source": [
    "\"Hello World\""
   ]
  },
  {
   "cell_type": "code",
   "execution_count": null,
   "id": "1604f10b",
   "metadata": {},
   "outputs": [],
   "source": [
    "name = \"Morita\""
   ]
  },
  {
   "cell_type": "code",
   "execution_count": null,
   "id": "e06c45e4",
   "metadata": {},
   "outputs": [],
   "source": [
    "name"
   ]
  },
  {
   "cell_type": "code",
   "execution_count": null,
   "id": "56735e81",
   "metadata": {},
   "outputs": [],
   "source": [
    "name = \"Jack\""
   ]
  },
  {
   "cell_type": "markdown",
   "id": "b68a8031",
   "metadata": {},
   "source": [
    "# This is the first Heading\n",
    "This is a *Jupyter Notebook* tutorial\n",
    "\n",
    "## This is the second Heading\n",
    "enjoy **learning**!"
   ]
  },
  {
   "cell_type": "code",
   "execution_count": null,
   "id": "a2d5063c",
   "metadata": {},
   "outputs": [],
   "source": [
    "!pip list"
   ]
  },
  {
   "cell_type": "code",
   "execution_count": null,
   "id": "467106a2",
   "metadata": {},
   "outputs": [],
   "source": [
    "%lsmagic"
   ]
  },
  {
   "cell_type": "code",
   "execution_count": null,
   "id": "c83ea881",
   "metadata": {},
   "outputs": [],
   "source": [
    "%%HTML\n",
    "<html>\n",
    "<body>\n",
    "\n",
    "<iframe width=\"420\" height=\"315\" src=\"https://www.youtube.com/embed/KP1Cak72kSM\">\n",
    "</iframe>\n",
    "  \n",
    "</body>\n",
    "</html>"
   ]
  },
  {
   "cell_type": "code",
   "execution_count": null,
   "id": "7f2cb98f",
   "metadata": {},
   "outputs": [],
   "source": [
    " %%timeit\n",
    "square = [n*n for n in range(1000)]"
   ]
  },
  {
   "cell_type": "code",
   "execution_count": null,
   "id": "99898b2c",
   "metadata": {},
   "outputs": [],
   "source": []
  }
 ],
 "metadata": {
  "kernelspec": {
   "display_name": "Python 3",
   "language": "python",
   "name": "python3"
  },
  "language_info": {
   "codemirror_mode": {
    "name": "ipython",
    "version": 3
   },
   "file_extension": ".py",
   "mimetype": "text/x-python",
   "name": "python",
   "nbconvert_exporter": "python",
   "pygments_lexer": "ipython3",
   "version": "3.8.8"
  }
 },
 "nbformat": 4,
 "nbformat_minor": 5
}
